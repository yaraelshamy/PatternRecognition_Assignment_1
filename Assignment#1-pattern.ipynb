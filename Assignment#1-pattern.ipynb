{
 "cells": [
  {
   "cell_type": "markdown",
   "metadata": {},
   "source": [
    "# **Importing**"
   ]
  },
  {
   "cell_type": "code",
   "execution_count": 1,
   "metadata": {},
   "outputs": [],
   "source": [
    "import numpy as np\n",
    "import sys\n",
    "import math\n",
    "from numpy.linalg import norm\n",
    "import random\n",
    "import matplotlib.pyplot as plt\n",
    "from sklearn.datasets import make_classification\n",
    "from sklearn.model_selection import train_test_split\n",
    "from sklearn.linear_model import LogisticRegression\n",
    "from sklearn.metrics import accuracy_score"
   ]
  },
  {
   "cell_type": "code",
   "execution_count": 2,
   "metadata": {},
   "outputs": [],
   "source": [
    "sign=lambda x:math.copysign(1,x)    #to get the sign of values"
   ]
  },
  {
   "cell_type": "markdown",
   "metadata": {},
   "source": [
    "# A-Batch Preceptron Algorithm"
   ]
  },
  {
   "cell_type": "code",
   "execution_count": 3,
   "metadata": {},
   "outputs": [],
   "source": [
    "def batch_perceptron(X,Y,lr=1):\n",
    "    n=X.shape[1]\n",
    "    w=np.array([float(random.randrange(-100, 100))/100 for _ in range(X.shape[1])])  #generate random values from (-1,1)\n",
    "    e=sys.float_info.epsilon       #where epsilon is a very small value approaches 0\n",
    "    delta=np.ones(n)  #intializing delta with array of ones\n",
    "    delta_total = []  #our target is delta approching to 0\n",
    "    w_steps=[]   #weights\n",
    "    \n",
    "    count=0 #where count= Number of epochs needed to achieve almost zero error.  \n",
    "    \n",
    "    while(norm(delta,1)>e):\n",
    "        delta=np.zeros(n)\n",
    "        for i in range(len(X)):\n",
    "            u=w.dot(X[i])\n",
    "            if Y[i]*u<=0:\n",
    "                delta=delta-(Y[i]*X[i])\n",
    "        delta=delta/len(X)\n",
    "        \n",
    "        delta_total.append(norm(delta,1))     #updating delta\n",
    "        \n",
    "        w=w-(lr*delta)\n",
    "        w_steps.append(w)\n",
    "        count+=1       #return the total number of epochs\n",
    "        if count>75:    # because of the infinite loop \n",
    "            break\n",
    "        \n",
    "    return w,w_steps,delta,count,delta_total"
   ]
  },
  {
   "cell_type": "markdown",
   "metadata": {},
   "source": [
    "# B-Online batch preceptron Algorithm"
   ]
  },
  {
   "cell_type": "code",
   "execution_count": 4,
   "metadata": {},
   "outputs": [],
   "source": [
    "def online_batch_perceptron(X,Y,lr=1):\n",
    "    n=X.shape[1]\n",
    "    data_length=len(X)\n",
    "    w=np.array([float(random.randrange(-100, 100))/100 for _ in range(X.shape[1])])\n",
    "    e=sys.float_info.epsilon\n",
    "    \n",
    "    delta=np.ones(n)  #intializing delta with array of ones\n",
    "    delta_total = []  #our target is delta approching to 0\n",
    "\n",
    "    w_steps=[]\n",
    "    count=0\n",
    "    while(norm(delta,1)>e):\n",
    "        delta=np.zeros(n)\n",
    "        for i in range(len(X)):\n",
    "            u=w.dot(X[i])\n",
    "            if Y[i]*u<=0:\n",
    "                delta=delta-(Y[i]*X[i])\n",
    "                delta=delta/data_length\n",
    "                w=w-(lr*delta)\n",
    "                w_steps.append(w)\n",
    "                \n",
    "        delta_total.append(norm(delta,1))\n",
    "        count+=1\n",
    "        if count>75:     # because of the infinite loop \n",
    "            break        \n",
    "    return w,w_steps,count,delta_total"
   ]
  },
  {
   "cell_type": "markdown",
   "metadata": {},
   "source": [
    "# Problem 1-Batch Perceptron"
   ]
  },
  {
   "cell_type": "code",
   "execution_count": 5,
   "metadata": {},
   "outputs": [
    {
     "name": "stdout",
     "output_type": "stream",
     "text": [
      "[-21.72  15.62]\n",
      "76\n",
      "76\n"
     ]
    }
   ],
   "source": [
    "X=np.array([[50,55,70,80,130,150,155,160],    #x has 2 features\n",
    "            [1,1,1,1,1,1,1,1]]).T\n",
    "Y=np.array([1,1,1,1,-1,-1,-1,-1])\n",
    "w,steps,delta,count, delta_total=batch_perceptron(X,Y)\n",
    "\n",
    "#printing the values at each run of the random values #output of w,steps and count will differ each time\n",
    "\n",
    "print (w)          #where w is the weights generated at every run from the random values \n",
    "print(len(steps))  #Number of times each algorithm updated model weights.\n",
    "print(count)           #Number of epochs needed to achieve almost zero error."
   ]
  },
  {
   "cell_type": "markdown",
   "metadata": {},
   "source": [
    "### Plotting of Batch Perceptron"
   ]
  },
  {
   "cell_type": "code",
   "execution_count": 6,
   "metadata": {},
   "outputs": [
    {
     "data": {
      "text/plain": [
       "[<matplotlib.lines.Line2D at 0x2b5058ec808>]"
      ]
     },
     "execution_count": 6,
     "metadata": {},
     "output_type": "execute_result"
    },
    {
     "data": {
      "image/png": "[encoded data removed]",
      "text/plain": [
       "<Figure size 432x288 with 1 Axes>"
      ]
     },
     "metadata": {
      "needs_background": "light"
     },
     "output_type": "display_data"
    }
   ],
   "source": [
    "#Plot of deltas (changes in weights).\n",
    "\n",
    "delta_total = np.unique(delta_total)\n",
    "plt.plot(np.flip(np.arange(0,len(delta_total))),delta_total)"
   ]
  },
  {
   "cell_type": "markdown",
   "metadata": {},
   "source": [
    "# Problem 1-Online Batch Perceptron"
   ]
  },
  {
   "cell_type": "code",
   "execution_count": 7,
   "metadata": {},
   "outputs": [
    {
     "name": "stdout",
     "output_type": "stream",
     "text": [
      "[-0.05566406  7.02208984]\n",
      "113\n",
      "38\n"
     ]
    }
   ],
   "source": [
    "X=np.array([[50,55,70,80,130,150,155,160],    #x has 2 features\n",
    "            [1,1,1,1,1,1,1,1]]).T\n",
    "Y=np.array([1,1,1,1,-1,-1,-1,-1])\n",
    "\n",
    "w_online,steps_online,count,delta_total=online_batch_perceptron(X,Y)\n",
    "print (w_online)     #weights\n",
    "print(len(steps_online))   #Number of times each algorithm updated model weights.  \n",
    "print(count)    #epochos\n",
    "\n",
    "#number of epochos and update number has to be different not the same as in case of batch perceptron"
   ]
  },
  {
   "cell_type": "markdown",
   "metadata": {},
   "source": [
    "### Plotting of Online Batch Perceptron"
   ]
  },
  {
   "cell_type": "code",
   "execution_count": 8,
   "metadata": {},
   "outputs": [
    {
     "data": {
      "text/plain": [
       "[<matplotlib.lines.Line2D at 0x2b5058ae148>]"
      ]
     },
     "execution_count": 8,
     "metadata": {},
     "output_type": "execute_result"
    },
    {
     "data": {
      "image/png": "[encoded data removed]",
      "text/plain": [
       "<Figure size 432x288 with 1 Axes>"
      ]
     },
     "metadata": {
      "needs_background": "light"
     },
     "output_type": "display_data"
    }
   ],
   "source": [
    "#Plot of deltas (changes in weights).\n",
    "\n",
    "delta_total = np.unique(delta_total)\n",
    "plt.plot(np.flip(np.arange(0,len(delta_total))),delta_total)"
   ]
  },
  {
   "cell_type": "markdown",
   "metadata": {},
   "source": [
    "# Problem 4-Batch Perceptron"
   ]
  },
  {
   "cell_type": "code",
   "execution_count": 9,
   "metadata": {},
   "outputs": [],
   "source": [
    "#as M here is RGB with 3 features and 1 additional feature (bias) , then it is total of 4 features\n",
    "\n",
    "M= np.array([[0,255,0,0,255,0,255,255],\n",
    "             [0,0,255,0,255,255,0,255],\n",
    "             [0,0,0,255,0,255,255,255],\n",
    "             [1,1,1,1,1,1,1,1]]).T\n",
    "\n",
    "N=np.array([1,1,1,-1,1,-1,-1,1])         # Where N is the corrseponding values of M (Y in problem 1)"
   ]
  },
  {
   "cell_type": "code",
   "execution_count": 10,
   "metadata": {},
   "outputs": [
    {
     "name": "stdout",
     "output_type": "stream",
     "text": [
      "[-20.58  15.43]\n",
      "76\n",
      "76\n"
     ]
    }
   ],
   "source": [
    "w,steps,delta,count, delta_total=batch_perceptron(X,Y)\n",
    "\n",
    "#printing the values at each run of the random values #output of w,steps and count will differ each time\n",
    "\n",
    "print (w)          #where w is the weights generated at every run from the random values \n",
    "print(len(steps))  #Number of times each algorithm updated model weights.\n",
    "print(count)           #Number of epochs needed to achieve almost zero error."
   ]
  },
  {
   "cell_type": "markdown",
   "metadata": {},
   "source": [
    "### Plotting of Batch Perceptron"
   ]
  },
  {
   "cell_type": "code",
   "execution_count": 11,
   "metadata": {},
   "outputs": [
    {
     "data": {
      "text/plain": [
       "[<matplotlib.lines.Line2D at 0x2b507a69cc8>]"
      ]
     },
     "execution_count": 11,
     "metadata": {},
     "output_type": "execute_result"
    },
    {
     "data": {
      "image/png": "[encoded data removed]",
      "text/plain": [
       "<Figure size 432x288 with 1 Axes>"
      ]
     },
     "metadata": {
      "needs_background": "light"
     },
     "output_type": "display_data"
    }
   ],
   "source": [
    "#Plot of deltas (changes in weights).\n",
    "\n",
    "delta_total = np.unique(delta_total)\n",
    "plt.plot(np.flip(np.arange(0,len(delta_total))),delta_total)"
   ]
  },
  {
   "cell_type": "markdown",
   "metadata": {},
   "source": [
    "# Problem 4-Online Batch Perceptron"
   ]
  },
  {
   "cell_type": "code",
   "execution_count": 12,
   "metadata": {},
   "outputs": [
    {
     "name": "stdout",
     "output_type": "stream",
     "text": [
      "[-14.94744141  12.24514648]\n",
      "235\n",
      "76\n"
     ]
    }
   ],
   "source": [
    "\n",
    "w_online,steps_online,count,delta_total=online_batch_perceptron(X,Y)\n",
    "print (w_online)     #weights\n",
    "print(len(steps_online))   #Number of times each algorithm updated model weights.  \n",
    "print(count)    #epochos\n",
    "\n",
    "#number of epochos and update number has to be different not the same as in case of batch perceptron"
   ]
  },
  {
   "cell_type": "markdown",
   "metadata": {},
   "source": [
    "### Plotting of Online Batch Perceptron"
   ]
  },
  {
   "cell_type": "code",
   "execution_count": 13,
   "metadata": {},
   "outputs": [
    {
     "data": {
      "text/plain": [
       "[<matplotlib.lines.Line2D at 0x2b5079c58c8>]"
      ]
     },
     "execution_count": 13,
     "metadata": {},
     "output_type": "execute_result"
    },
    {
     "data": {
      "image/png": "[encoded data removed]",
      "text/plain": [
       "<Figure size 432x288 with 1 Axes>"
      ]
     },
     "metadata": {
      "needs_background": "light"
     },
     "output_type": "display_data"
    }
   ],
   "source": [
    "#Plot of deltas (changes in weights).\n",
    "\n",
    "delta_total = np.unique(delta_total)\n",
    "plt.plot(np.flip(np.arange(0,len(delta_total))),delta_total)"
   ]
  },
  {
   "cell_type": "markdown",
   "metadata": {},
   "source": [
    " # Repeat all the above using the data generated"
   ]
  },
  {
   "cell_type": "code",
   "execution_count": 14,
   "metadata": {},
   "outputs": [
    {
     "data": {
      "text/plain": [
       "<matplotlib.collections.PathCollection at 0x2b508b1a308>"
      ]
     },
     "execution_count": 14,
     "metadata": {},
     "output_type": "execute_result"
    },
    {
     "data": {
      "image/png": "[encoded data removed]",
      "text/plain": [
       "<Figure size 432x288 with 1 Axes>"
      ]
     },
     "metadata": {
      "needs_background": "light"
     },
     "output_type": "display_data"
    }
   ],
   "source": [
    "x, y = make_classification(25, n_features=2, n_redundant = 0, n_informative=1, n_clusters_per_class=1)\n",
    "\n",
    "mask_for_y = y == 0\n",
    "y[mask_for_y] = - 1\n",
    "\n",
    "plt.scatter(x[:,0], x[:,1], marker='o', c=y, s=25, edgecolor='k')"
   ]
  },
  {
   "cell_type": "markdown",
   "metadata": {},
   "source": [
    " ### Dividing the data into 75% training and 25% testing"
   ]
  },
  {
   "cell_type": "code",
   "execution_count": 15,
   "metadata": {
    "scrolled": true
   },
   "outputs": [],
   "source": [
    "trainX, testX, trainY, testY = train_test_split(x, y, test_size = 0.25, random_state=0)\n",
    "# print(trainX, trainY, testX, testY)\n",
    "lr = np.random.uniform(-1, 1, trainX.shape[1])\n"
   ]
  },
  {
   "cell_type": "markdown",
   "metadata": {},
   "source": [
    " ### For Batch Perceptron Algorithm"
   ]
  },
  {
   "cell_type": "code",
   "execution_count": 16,
   "metadata": {
    "scrolled": true
   },
   "outputs": [
    {
     "name": "stdout",
     "output_type": "stream",
     "text": [
      "Weights: [0.05931844 0.60631865]\n",
      "No. of times updated weights: 3\n",
      "No. of epochs: 3\n"
     ]
    }
   ],
   "source": [
    "w,steps,delta,count, delta_total = batch_perceptron(trainX, trainY)\n",
    "#printing the values at each run of the random values #output of w,steps and count will differ each time\n",
    "\n",
    "print (\"Weights:\",w)          #where w is the weights generated at every run from the random values \n",
    "print(\"No. of times updated weights:\",len(steps))  #Number of times each algorithm updated model weights.\n",
    "print(\"No. of epochs:\",count)           #Number of epochs needed to achieve almost zero error.\n",
    "\n",
    "\n",
    "for z in trainX:\n",
    "    sign(w.dot(z))\n"
   ]
  },
  {
   "cell_type": "markdown",
   "metadata": {},
   "source": [
    " ### For Online Training "
   ]
  },
  {
   "cell_type": "code",
   "execution_count": 17,
   "metadata": {
    "scrolled": true
   },
   "outputs": [
    {
     "name": "stdout",
     "output_type": "stream",
     "text": [
      "Weights: [0.01141201 0.13050575]\n",
      "No. of times updated weights: 18\n",
      "No. of epochs: 4\n"
     ]
    }
   ],
   "source": [
    "w_online,steps_online,count_online,delta_total_online = online_batch_perceptron(trainX, trainY)\n",
    "print (\"Weights:\",w_online)     #weights\n",
    "print(\"No. of times updated weights:\",len(steps_online))   #Number of times each algorithm updated model weights.  \n",
    "print(\"No. of epochs:\",count_online)    #epochos\n",
    "\n",
    "for z in trainX:\n",
    "    sign(w_online.dot(z))"
   ]
  },
  {
   "cell_type": "markdown",
   "metadata": {},
   "source": [
    " # Calculating Model Accuracy"
   ]
  },
  {
   "cell_type": "code",
   "execution_count": 18,
   "metadata": {},
   "outputs": [
    {
     "name": "stdout",
     "output_type": "stream",
     "text": [
      "yhat: [ 1  1 -1 -1  1 -1  1]\n",
      "testY:  [ 1  1 -1 -1  1 -1  1]\n",
      "Accuracy: 100.000\n"
     ]
    }
   ],
   "source": [
    "# train a logistic regression model on the training set\n",
    "model = LogisticRegression(random_state = 0)  # define model\n",
    "model.fit(trainX, trainY)   # fit model\n",
    "yhat = model.predict(testX)  # make predictions\n",
    "accuracy = accuracy_score(testY, yhat)    # evaluate predictions\n",
    "\n",
    "print(\"yhat:\", yhat)\n",
    "print(\"testY: \", testY)\n",
    "print('Accuracy: %.3f' % (accuracy * 100))"
   ]
  },
  {
   "cell_type": "markdown",
   "metadata": {},
   "source": [
    "# Visualizing The Model"
   ]
  },
  {
   "cell_type": "markdown",
   "metadata": {},
   "source": [
    "## Batch Perceptron Algorithm"
   ]
  },
  {
   "cell_type": "code",
   "execution_count": 19,
   "metadata": {
    "scrolled": false
   },
   "outputs": [
    {
     "data": {
      "text/plain": [
       "[<matplotlib.lines.Line2D at 0x2b508b7e508>]"
      ]
     },
     "execution_count": 19,
     "metadata": {},
     "output_type": "execute_result"
    },
    {
     "data": {
      "image/png": "[encoded data removed]",
      "text/plain": [
       "<Figure size 432x288 with 1 Axes>"
      ]
     },
     "metadata": {
      "needs_background": "light"
     },
     "output_type": "display_data"
    }
   ],
   "source": [
    "plt.scatter(x[:,0], x[:,1], marker='o', c=y, s=25, edgecolor='k')\n",
    "xAxis = [ np.min(trainX[:, 0]), np.max(trainX[:, 1])]\n",
    "yAxis = - np.dot(w[0], xAxis)/ w[1]\n",
    "plt.plot(xAxis, yAxis)"
   ]
  },
  {
   "cell_type": "markdown",
   "metadata": {},
   "source": [
    "## Online Training Algorithm"
   ]
  },
  {
   "cell_type": "code",
   "execution_count": 20,
   "metadata": {},
   "outputs": [
    {
     "data": {
      "text/plain": [
       "[<matplotlib.lines.Line2D at 0x2b508bc6d08>]"
      ]
     },
     "execution_count": 20,
     "metadata": {},
     "output_type": "execute_result"
    },
    {
     "data": {
      "image/png": "[encoded data removed]",
      "text/plain": [
       "<Figure size 432x288 with 1 Axes>"
      ]
     },
     "metadata": {
      "needs_background": "light"
     },
     "output_type": "display_data"
    }
   ],
   "source": [
    "plt.scatter(x[:,0], x[:,1], marker='o', c=y, s=25, edgecolor='k')\n",
    "xAxis = [ np.min(trainX[:, 0]), np.max(trainX[:, 1])]\n",
    "yAxis = - np.dot(w_online[0], xAxis)/ w_online[1]\n",
    "plt.plot(xAxis, yAxis)"
   ]
  }
 ],
 "metadata": {
  "kernelspec": {
   "display_name": "Python 3",
   "language": "python",
   "name": "python3"
  },
  "language_info": {
   "codemirror_mode": {
    "name": "ipython",
    "version": 3
   },
   "file_extension": ".py",
   "mimetype": "text/x-python",
   "name": "python",
   "nbconvert_exporter": "python",
   "pygments_lexer": "ipython3",
   "version": "3.7.4"
  }
 },
 "nbformat": 4,
 "nbformat_minor": 5
}
